{
 "cells": [
  {
   "cell_type": "code",
   "execution_count": null,
   "metadata": {
    "collapsed": false
   },
   "outputs": [],
   "source": [
    "#INSY 5376 Big Data Analytics - Project - IPL Player Performance Analysis\n",
    "#Team Members :\n",
    "# Amuluru, Sriram Sai\n",
    "# Grandhi, Anish\n",
    "# Potukuchi, Sameer Kumar\n",
    "# Thanikonda, Pruthvi Sai Kumar\n",
    "\n",
    "#Import the required packages.\n",
    "from pyspark.ml.regression import LinearRegression,GeneralizedLinearRegression  \n",
    "from pyspark.ml.feature import VectorAssembler  \n",
    "from pyspark.ml.feature import StandardScaler, Normalizer  \n",
    "from pyspark.ml import Pipeline  \n",
    "from pyspark.sql.functions import *\n",
    "from pyspark import SparkConf, SparkContext, SQLContext\n",
    "from pyspark.ml.regression import DecisionTreeRegressor\n",
    "from pyspark.ml.tuning import ParamGridBuilder, CrossValidator\n",
    "\n",
    "#Initialize the spark conf, spark context and sql context \n",
    "conf = SparkConf().setMaster('local[*]').setAppName('IPL Average Prediction')\n",
    "sc = SparkContext(conf = conf)\n",
    "sqlContext = SQLContext(sc)"
   ]
  },
  {
   "cell_type": "code",
   "execution_count": null,
   "metadata": {
    "collapsed": true
   },
   "outputs": [],
   "source": [
    "#Determining a player variable to toggle between batsmen and bowler data and run separately.\n",
    "player = 'batsman'\n",
    "#Read the batsmen and bowlers training and test data into Spark SQL dataframes.\n",
    "batsmenTrainingData = sqlContext.read.options(header='true', inferSchema='true', delimiter = ',').csv('batsmen_training_data.csv')\n",
    "batsmenTestData = sqlContext.read.options(header='true', inferSchema='true', delimiter = ',').csv('batsmen_test_data.csv')\n",
    "bowlersTrainingData = sqlContext.read.options(header='true', inferSchema='true', delimiter = ',').csv('bowlers_training_data.csv')\n",
    "bowlersTestData = sqlContext.read.options(header='true', inferSchema='true', delimiter = ',').csv('bowlers_test_data.csv')"
   ]
  },
  {
   "cell_type": "code",
   "execution_count": null,
   "metadata": {
    "collapsed": false
   },
   "outputs": [],
   "source": [
    "#Configure the features and training data and testing data, vector assembler depending on the player, we are predicting batting average for batsmen\n",
    "#and bowling strike rate for bowlers. \n",
    "if player == 'batsman':\n",
    "    features = [\"balls\", \"batsmanRuns\", \"fours\", \"sixes\",\"strikeRate\",\"highestScore\", \"num_of_innings\",\"num_not_outs\",\"batsman_min_seasons\",\"num_fifties\",\"num_hundreds\"]\n",
    "    lr_train_data = batsmenTrainingData.select(col(\"battingAverage\").alias('label'), *features)\n",
    "    lr_test_data = batsmenTestData.select(col(\"battingAverage\").alias('label'), *features)\n",
    "    vectorAssembler = VectorAssembler(inputCols=features, outputCol=\"unscaled_features\")\n",
    "else:\n",
    "    bowlingFeatures = [\"totalBalls\", \"totalWickets\", \"bowlerEconomy\", \"bowlingAverage\",\"bestBowlingWickets\",\"dot_balls\", \"num_wides\",\"num_noballs\",\"bowler_min_seasons\"]\n",
    "    lr_bowling_train_data = bowlersTrainingData.select(col(\"bowlingStrikeRate\").alias('label'), *bowlingFeatures)\n",
    "    lr_bowling_test_data = bowlersTestData.select(col(\"bowlingStrikeRate\").alias('label'), *bowlingFeatures)\n",
    "    vectorAssembler = VectorAssembler(inputCols=bowlingFeatures, outputCol=\"unscaled_features\")\n",
    "\n",
    "#Initialize the linear regression object, define standard scaler and normalizer and pipeline.\n",
    "lr = LinearRegression()\n",
    "standardScaler = StandardScaler(inputCol=\"unscaled_features\", outputCol=\"scaled_features\")\n",
    "normalizer = Normalizer(inputCol=\"scaled_features\", outputCol=\"features\", p=2.0)\n",
    "stages = [vectorAssembler,standardScaler, normalizer, lr]\n",
    "pipeline = Pipeline(stages=stages) "
   ]
  },
  {
   "cell_type": "code",
   "execution_count": null,
   "metadata": {
    "collapsed": true
   },
   "outputs": [],
   "source": [
    "#Define the param grid with all the required params to run linear regression, lasso and ridge models. \n",
    "paramGrid = (ParamGridBuilder()\n",
    "             .addGrid(lr.regParam, [0.01, 0.01, 0.01])\n",
    "             .addGrid(lr.elasticNetParam, [0.5, 1.0, 0.0])\n",
    "             .addGrid(lr.maxIter, [100, 100, 100])\n",
    "             .build())"
   ]
  },
  {
   "cell_type": "code",
   "execution_count": null,
   "metadata": {
    "collapsed": false
   },
   "outputs": [],
   "source": [
    "#Import and configure cross validator as required, with number of folds as 10. \n",
    "from pyspark.ml.evaluation import RegressionEvaluator\n",
    "\n",
    "cv = CrossValidator(estimator=pipeline, estimatorParamMaps=paramGrid, evaluator=RegressionEvaluator(), numFolds=10)"
   ]
  },
  {
   "cell_type": "code",
   "execution_count": null,
   "metadata": {
    "collapsed": false
   },
   "outputs": [],
   "source": [
    "#Fit the model using training data depending on bowler or batsmen\n",
    "if player == 'batsman':\n",
    "    cvModel = cv.fit(lr_train_data)\n",
    "else:\n",
    "    cvModel = cv.fit(lr_bowling_train_data)"
   ]
  },
  {
   "cell_type": "code",
   "execution_count": null,
   "metadata": {
    "collapsed": false
   },
   "outputs": [],
   "source": [
    "#Predict the label on test data depending on bowler or batsmen\n",
    "if player == 'batsman':\n",
    "    predictions = cvModel.transform(lr_test_data)\n",
    "else:\n",
    "    predictions = cvModel.transform(lr_bowling_test_data)"
   ]
  },
  {
   "cell_type": "code",
   "execution_count": null,
   "metadata": {
    "collapsed": false
   },
   "outputs": [],
   "source": [
    "#View the prediction \n",
    "predictions.select('prediction').show()"
   ]
  },
  {
   "cell_type": "code",
   "execution_count": null,
   "metadata": {
    "collapsed": false
   },
   "outputs": [],
   "source": [
    "#Using regression evaluator view the RMSE for the best model. \n",
    "evaluator = RegressionEvaluator()\n",
    "evaluator.evaluate(predictions)"
   ]
  },
  {
   "cell_type": "code",
   "execution_count": null,
   "metadata": {
    "collapsed": true
   },
   "outputs": [],
   "source": []
  }
 ],
 "metadata": {
  "kernelspec": {
   "display_name": "Python 2",
   "language": "python",
   "name": "python2"
  },
  "language_info": {
   "codemirror_mode": {
    "name": "ipython",
    "version": 2
   },
   "file_extension": ".py",
   "mimetype": "text/x-python",
   "name": "python",
   "nbconvert_exporter": "python",
   "pygments_lexer": "ipython2",
   "version": "2.7.13"
  }
 },
 "nbformat": 4,
 "nbformat_minor": 2
}
