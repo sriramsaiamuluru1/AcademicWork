{
 "cells": [
  {
   "cell_type": "code",
   "execution_count": null,
   "metadata": {
    "collapsed": false
   },
   "outputs": [],
   "source": [
    "#INSY 5376 Big Data Analytics - Project - IPL Player Performance Analysis\n",
    "#Team Members :\n",
    "# Amuluru, Sriram Sai\n",
    "# Grandhi, Anish\n",
    "# Potukuchi, Sameer Kumar\n",
    "# Thanikonda, Pruthvi Sai Kumar\n",
    "\n",
    "#Import all the required packages\n",
    "from pyspark.ml.regression import LinearRegression,GeneralizedLinearRegression  \n",
    "from pyspark.ml.feature import VectorAssembler  \n",
    "from pyspark.ml.feature import StandardScaler, Normalizer  \n",
    "from pyspark.ml import Pipeline  \n",
    "from pyspark.sql.functions import *\n",
    "from pyspark import SparkConf, SparkContext, SQLContext\n",
    "from pyspark.ml.regression import DecisionTreeRegressor\n",
    "\n",
    "#initialize spark conf, spark context and SQL context.\n",
    "conf = SparkConf().setMaster('local[*]').setAppName('IPL Average Prediction')\n",
    "sc = SparkContext(conf = conf)\n",
    "sqlContext = SQLContext(sc)"
   ]
  },
  {
   "cell_type": "code",
   "execution_count": null,
   "metadata": {
    "collapsed": false
   },
   "outputs": [],
   "source": [
    "#Determining a player variable to toggle between batsmen and bowler data and run separately.\n",
    "player = 'batsman'\n",
    "#Read the batsmen and bowler training and test data into Spark SQL dataframes.\n",
    "batsmenTrainingData = sqlContext.read.options(header='true', inferSchema='true', delimiter = ',').csv('batsmen_training_data.csv')\n",
    "batsmenTestData = sqlContext.read.options(header='true', inferSchema='true', delimiter = ',').csv('batsmen_test_data.csv')\n",
    "bowlersTrainingData = sqlContext.read.options(header='true', inferSchema='true', delimiter = ',').csv('bowlers_training_data.csv')\n",
    "bowlersTestData = sqlContext.read.options(header='true', inferSchema='true', delimiter = ',').csv('bowlers_test_data.csv')"
   ]
  },
  {
   "cell_type": "code",
   "execution_count": null,
   "metadata": {
    "collapsed": false
   },
   "outputs": [],
   "source": [
    "#Depending on batsman or bowler define the features and label columns, our label is batting average for batsmen and strike rate for bowlers.\n",
    "if player == 'batsman':\n",
    "    features = [\"balls\", \"batsmanRuns\", \"fours\", \"sixes\",\"strikeRate\",\"highestScore\", \"num_of_innings\",\"num_not_outs\",\"batsman_min_seasons\",\"num_fifties\",\"num_hundreds\"]\n",
    "    lr_train_data = batsmenTrainingData.select(col(\"battingAverage\").alias('label'), *features)\n",
    "    lr_test_data = batsmenTestData.select(col(\"battingAverage\").alias('label'), *features)\n",
    "else:\n",
    "    bowlingFeatures = [\"totalBalls\", \"totalWickets\", \"bowlerEconomy\", \"bowlingAverage\",\"bestBowlingWickets\",\"dot_balls\", \"num_wides\",\"num_noballs\",\"bowler_min_seasons\"]\n",
    "    lr_bowling_train_data = bowlersTrainingData.select(col(\"bowlingStrikeRate\").alias('label'), *bowlingFeatures)\n",
    "    lr_bowling_test_data = bowlersTestData.select(col(\"bowlingStrikeRate\").alias('label'), *bowlingFeatures)"
   ]
  },
  {
   "cell_type": "code",
   "execution_count": null,
   "metadata": {
    "collapsed": false
   },
   "outputs": [],
   "source": [
    "#Create a vector assembler, scale, normalize and run the linear regression, ridge and lasso models as necessary by creating a pipline with stages. \n",
    "if player == 'batsman':\n",
    "    vectorAssembler = VectorAssembler(inputCols=features, outputCol=\"unscaled_features\")\n",
    "else:\n",
    "    vectorAssembler = VectorAssembler(inputCols=bowlingFeatures, outputCol=\"unscaled_features\")\n",
    "standardScaler = StandardScaler(inputCol=\"unscaled_features\", outputCol=\"scaled_features\")  \n",
    "normalizer = Normalizer(inputCol=\"scaled_features\", outputCol=\"features\", p=2.0)\n",
    "lr = LinearRegression(maxIter=100, regParam=.01, elasticNetParam=0.5)\n",
    "lasso = LinearRegression(maxIter=100, regParam=.01,elasticNetParam=1.0)\n",
    "ridge = LinearRegression(maxIter=100, regParam=.01,elasticNetParam=0.0)\n",
    "\n",
    "stages = [vectorAssembler,standardScaler, normalizer,  lr]\n",
    "stages1 = [vectorAssembler,standardScaler, normalizer, lasso]\n",
    "stages2 = [vectorAssembler,standardScaler, normalizer, ridge]  \n",
    "\n",
    "\n",
    "pipeline = Pipeline(stages=stages) \n",
    "pipeline1 = Pipeline(stages=stages1)\n",
    "pipeline2 = Pipeline(stages=stages2)"
   ]
  },
  {
   "cell_type": "code",
   "execution_count": null,
   "metadata": {
    "collapsed": false
   },
   "outputs": [],
   "source": [
    "#Fit the linear regression, lasso and ridge models depending on batsman or bowler\n",
    "if player == 'batsman':\n",
    "    model = pipeline.fit(lr_train_data) \n",
    "    lassoModel = pipeline1.fit(lr_train_data)\n",
    "    ridgeModel = pipeline2.fit(lr_train_data)\n",
    "else:\n",
    "    model = pipeline.fit(lr_bowling_train_data) \n",
    "    lassoModel = pipeline1.fit(lr_bowling_train_data)\n",
    "    ridgeModel = pipeline2.fit(lr_bowling_train_data)"
   ]
  },
  {
   "cell_type": "code",
   "execution_count": null,
   "metadata": {
    "collapsed": false
   },
   "outputs": [],
   "source": [
    "#Get the predictions for each model. \n",
    "if player == 'batsman':\n",
    "    prediction = model.transform(lr_test_data)\n",
    "    lassoPrediction = lassoModel.transform(lr_test_data)\n",
    "    ridgePrediction = ridgeModel.transform(lr_test_data)\n",
    "else:\n",
    "    prediction = model.transform(lr_bowling_test_data)\n",
    "    lassoPrediction = lassoModel.transform(lr_bowling_test_data)\n",
    "    ridgePrediction = ridgeModel.transform(lr_bowling_test_data)"
   ]
  },
  {
   "cell_type": "code",
   "execution_count": null,
   "metadata": {
    "collapsed": false
   },
   "outputs": [],
   "source": []
  },
  {
   "cell_type": "code",
   "execution_count": null,
   "metadata": {
    "collapsed": false
   },
   "outputs": [],
   "source": [
    "#Print the required metrics to measure the model performance. \n",
    "from pyspark.ml.evaluation import RegressionEvaluator  \n",
    "eval = RegressionEvaluator(labelCol=\"label\", predictionCol=\"prediction\", metricName=\"rmse\")\n",
    "\n",
    "# Root Mean Square Error\n",
    "rmse = eval.evaluate(prediction)\n",
    "lassoRmse = eval.evaluate(lassoPrediction)\n",
    "ridgeRmse = eval.evaluate(ridgePrediction)\n",
    "print(\"Linear Regression RMSE: %.3f\" % rmse)\n",
    "print(\"Lasso Regression RMSE: %.3f\" % lassoRmse)\n",
    "print(\"Ridge Regression RMSE: %.3f\" % ridgeRmse)\n",
    "\n",
    "\n",
    "# Mean Square Error\n",
    "mse = eval.evaluate(prediction, {eval.metricName: \"mse\"}) \n",
    "lassoMse = eval.evaluate(lassoPrediction, {eval.metricName: \"mse\"}) \n",
    "ridgeMse = eval.evaluate(ridgePrediction, {eval.metricName: \"mse\"}) \n",
    "\n",
    "\n",
    "print(\"Linear Regression MSE: %.3f\" % mse)\n",
    "print(\"Lasso Regression MSE: %.3f\" % lassoMse)\n",
    "print(\"Ridge Regression MSE: %.3f\" % ridgeMse)\n",
    "\n",
    "\n",
    "# Mean Absolute Error\n",
    "mae = eval.evaluate(prediction, {eval.metricName: \"mae\"})\n",
    "lassoMae = eval.evaluate(lassoPrediction, {eval.metricName: \"mae\"})\n",
    "ridgeMae = eval.evaluate(ridgePrediction, {eval.metricName: \"mae\"})\n",
    "\n",
    "print(\"Linear Regression MAE: %.3f\" % mae)\n",
    "print(\"Lasso Regression MAE: %.3f\" % lassoMae)\n",
    "print(\"Ridge Regression MAE: %.3f\" % ridgeMae)\n",
    "\n",
    "\n",
    "# r2 - coefficient of determination\n",
    "r2 = eval.evaluate(prediction, {eval.metricName: \"r2\"})\n",
    "lassoR2 = eval.evaluate(lassoPrediction, {eval.metricName: \"r2\"})  \n",
    "ridgeR2 = eval.evaluate(ridgePrediction, {eval.metricName: \"r2\"})  \n",
    "\n",
    "\n",
    "\n",
    "print(\"Linear Regression R-Squared: %.3f\" %r2)\n",
    "print(\"Lasso Regression R-Squared: %.3f\" %lassoR2)\n",
    "print(\"Ridge Regression R-Squared: %.3f\" %ridgeR2)"
   ]
  },
  {
   "cell_type": "code",
   "execution_count": null,
   "metadata": {
    "collapsed": false
   },
   "outputs": [],
   "source": [
    "\n",
    "#Separate the prediction from the prediction dataframe and merge with the test data, create a monotonically increasing id as index, \n",
    "#Since we do not have any common columns on which we can join the data for batsmen test data and write to csv. \n",
    "prediction = prediction.withColumn('row_index', monotonically_increasing_id())\n",
    "predictionDF = prediction.select('row_index', 'prediction')\n",
    "batsmenTestData = batsmenTestData.withColumn('row_index', monotonically_increasing_id())\n",
    "batsmenTestData = batsmenTestData.join(predictionDF, ['row_index']).drop('row_index')\n",
    "batsmenTestDataPandas = batsmenTestData.toPandas()\n",
    "batsmenTestDataPandas.to_csv('batsmen_predicted_LR.csv')\n",
    "\n",
    "lassoPrediction = lassoPrediction.withColumn('row_index', monotonically_increasing_id())\n",
    "lassoPredictionDF = lassoPrediction.select('row_index', 'prediction')\n",
    "batsmenTestData = batsmenTestData.withColumn('row_index', monotonically_increasing_id())\n",
    "batsmenTestData = batsmenTestData.drop('prediction')\n",
    "batsmenTestData = batsmenTestData.join(lassoPredictionDF, ['row_index']).drop('row_index')\n",
    "batsmenTestDataPandas = batsmenTestData.toPandas()\n",
    "batsmenTestDataPandas.to_csv('batsmen_predicted_Lasso.csv')\n",
    "\n",
    "\n",
    "ridgePrediction = ridgePrediction.withColumn('row_index', monotonically_increasing_id())\n",
    "ridgePredictionDF = ridgePrediction.select('row_index', 'prediction')\n",
    "batsmenTestData = batsmenTestData.withColumn('row_index', monotonically_increasing_id())\n",
    "batsmenTestData = batsmenTestData.drop('prediction')\n",
    "batsmenTestData = batsmenTestData.join(ridgePredictionDF, ['row_index']).drop('row_index')\n",
    "batsmenTestDataPandas = batsmenTestData.toPandas()\n",
    "batsmenTestDataPandas.to_csv('batsmen_predicted_Ridge.csv')"
   ]
  },
  {
   "cell_type": "code",
   "execution_count": null,
   "metadata": {
    "collapsed": true
   },
   "outputs": [],
   "source": [
    "#Separate the prediction from the prediction dataframe and merge with the test data, create a monotonically increasing id as index, \n",
    "#Since we do not have any common columns on which we can join the data for bowlers test data and write to csv. \n",
    "\n",
    "\n",
    "prediction = prediction.withColumn('row_index', monotonically_increasing_id())\n",
    "predictionDF = prediction.select('row_index', 'prediction')\n",
    "bowlersTestData = bowlersTestData.withColumn('row_index', monotonically_increasing_id())\n",
    "bowlersTestData = bowlersTestData.join(predictionDF, ['row_index']).drop('row_index')\n",
    "bowlersTestDataPandas = bowlersTestData.toPandas()\n",
    "bowlersTestDataPandas.to_csv('bowlers_predicted_LR.csv')\n",
    "\n",
    "lassoPrediction = lassoPrediction.withColumn('row_index', monotonically_increasing_id())\n",
    "lassoPredictionDF = lassoPrediction.select('row_index', 'prediction')\n",
    "bowlersTestData = bowlersTestData.withColumn('row_index', monotonically_increasing_id())\n",
    "bowlersTestData = bowlersTestData.drop('prediction')\n",
    "bowlersTestData = bowlersTestData.join(lassoPredictionDF, ['row_index']).drop('row_index')\n",
    "bowlersTestDataPandas = bowlersTestData.toPandas()\n",
    "bowlersTestDataPandas.to_csv('bowlers_predicted_Lasso.csv')\n",
    "\n",
    "\n",
    "ridgePrediction = ridgePrediction.withColumn('row_index', monotonically_increasing_id())\n",
    "ridgePredictionDF = ridgePrediction.select('row_index', 'prediction')\n",
    "bowlersTestData = bowlersTestData.withColumn('row_index', monotonically_increasing_id())\n",
    "bowlersTestData = bowlersTestData.drop('prediction')\n",
    "bowlersTestData = bowlersTestData.join(ridgePredictionDF, ['row_index']).drop('row_index')\n",
    "bowlersTestDataPandas = bowlersTestData.toPandas()\n",
    "bowlersTestDataPandas.to_csv('bowlers_predicted_Ridge.csv')"
   ]
  },
  {
   "cell_type": "code",
   "execution_count": null,
   "metadata": {
    "collapsed": true
   },
   "outputs": [],
   "source": [
    "#Prepare the batsmen training dataframe to plot the correlation heat map. \n",
    "batsmenTrainingData = batsmenTrainingData.drop('battingAverage','batsman')\n"
   ]
  },
  {
   "cell_type": "code",
   "execution_count": null,
   "metadata": {
    "collapsed": false
   },
   "outputs": [],
   "source": [
    "#Convert the Dataframe to pandas to get the correlation.\n",
    "batsmenTrainingDataPandas = batsmenTrainingData.toPandas()"
   ]
  },
  {
   "cell_type": "code",
   "execution_count": null,
   "metadata": {
    "collapsed": false
   },
   "outputs": [],
   "source": [
    "#Plot the correlation matrix using seaborn package. \n",
    "import seaborn as sns\n",
    "import matplotlib.pyplot as plt\n",
    "\n",
    "corr = batsmenTrainingDataPandas.corr()\n",
    "sns.heatmap(corr, xticklabels=corr.columns.values,yticklabels=corr.columns.values,vmin=0, vmax=1)\n",
    "plt.title(\"Batsmen Training Data Correlation Heatmap \\n\", {'fontsize': 14})\n",
    "plt.show()"
   ]
  },
  {
   "cell_type": "code",
   "execution_count": null,
   "metadata": {
    "collapsed": false
   },
   "outputs": [],
   "source": [
    "#Repeat the same process for batsmen test data. \n",
    "batsmenTestData = batsmenTestData.drop('battingAverage','batsman')"
   ]
  },
  {
   "cell_type": "code",
   "execution_count": null,
   "metadata": {
    "collapsed": false
   },
   "outputs": [],
   "source": [
    "batsmenTestDataPandas = batsmenTestData.toPandas()"
   ]
  },
  {
   "cell_type": "code",
   "execution_count": null,
   "metadata": {
    "collapsed": false
   },
   "outputs": [],
   "source": [
    "corr = batsmenTestDataPandas.corr()\n",
    "sns.heatmap(corr, xticklabels=corr.columns.values,yticklabels=corr.columns.values,vmin=0, vmax=1)\n",
    "plt.title(\"Batsmen Test Data Correlation Heatmap \\n\", {'fontsize': 14})\n",
    "plt.show()"
   ]
  },
  {
   "cell_type": "code",
   "execution_count": null,
   "metadata": {
    "collapsed": false
   },
   "outputs": [],
   "source": [
    "#Prepare the bowler training dataframe to plot the correlation heat map. \n",
    "bowlersTrainingData = bowlersTrainingData.drop('bowlingAverage','bowler')\n",
    "bowlersTestData = bowlersTestData.drop('bowlingAverage','bowler')\n"
   ]
  },
  {
   "cell_type": "code",
   "execution_count": null,
   "metadata": {
    "collapsed": true
   },
   "outputs": [],
   "source": [
    "#Convert the bowlers training and test data to pandas. \n",
    "bowlersTrainingDataPandas = bowlersTrainingData.toPandas()\n",
    "bowlersTestDataPandas = bowlersTestData.toPandas()"
   ]
  },
  {
   "cell_type": "code",
   "execution_count": null,
   "metadata": {
    "collapsed": false
   },
   "outputs": [],
   "source": [
    "#Plot the correlation matrix using seaborn package for both bowler training and test data.  \n",
    "corr = bowlersTrainingDataPandas.corr()\n",
    "sns.heatmap(corr, xticklabels=corr.columns.values,yticklabels=corr.columns.values,vmin=0, vmax=1)\n",
    "plt.title(\"Bowlers Training Data Correlation Heatmap \\n\", {'fontsize': 14})\n",
    "plt.show()"
   ]
  },
  {
   "cell_type": "code",
   "execution_count": null,
   "metadata": {
    "collapsed": false
   },
   "outputs": [],
   "source": [
    "corr = bowlersTestDataPandas.corr()\n",
    "sns.heatmap(corr, xticklabels=corr.columns.values,yticklabels=corr.columns.values,vmin=0, vmax=1)\n",
    "plt.title(\"Bowlers Test Data Correlation Heatmap \\n\", {'fontsize': 14})\n",
    "plt.show()"
   ]
  }
 ],
 "metadata": {
  "kernelspec": {
   "display_name": "Python 2",
   "language": "python",
   "name": "python2"
  },
  "language_info": {
   "codemirror_mode": {
    "name": "ipython",
    "version": 2
   },
   "file_extension": ".py",
   "mimetype": "text/x-python",
   "name": "python",
   "nbconvert_exporter": "python",
   "pygments_lexer": "ipython2",
   "version": "2.7.13"
  },
  "name": "Linear_Regression",
  "notebookId": 3071254610550923
 },
 "nbformat": 4,
 "nbformat_minor": 0
}
